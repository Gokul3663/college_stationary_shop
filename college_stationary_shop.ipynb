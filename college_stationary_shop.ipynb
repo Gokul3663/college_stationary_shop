{
  "nbformat": 4,
  "nbformat_minor": 0,
  "metadata": {
    "colab": {
      "provenance": []
    },
    "kernelspec": {
      "name": "python3",
      "display_name": "Python 3"
    },
    "language_info": {
      "name": "python"
    }
  },
  "cells": [
    {
      "cell_type": "code",
      "execution_count": 3,
      "metadata": {
        "id": "9vt3TU_six4f",
        "colab": {
          "base_uri": "https://localhost:8080/"
        },
        "outputId": "bcdcadf7-6a25-4223-e181-85fd79089da4"
      },
      "outputs": [
        {
          "output_type": "stream",
          "name": "stdout",
          "text": [
            "add_item tshirt 2\n",
            "ITEM_ADDED\n",
            "add_item notebook 1\n",
            "ITEM_ADDED\n",
            "print_bill\n",
            "TOTAL_DISCOUNT 240.0\n",
            "TOTAL_AMOUNT_TO_PAY 2156.0\n"
          ]
        }
      ],
      "source": [
        "products ={\"tshirt\": \t{\"category\":\"Clothing\",\"cost\":1000,\"discount\": \t10},\n",
        "\"jacket\": \t{\"category\":\"Clothing\",\"cost\":2000,\"discount\": \t5},\n",
        "\"cap\": \t    {\"category\":\"Clothing\",\"cost\":500, \"discount\":\t20},\n",
        "\"notebook\": \t{\"category\":\"Stationery\",\"cost\":200, \"discount\":\t20},\n",
        "\"pens\": \t    {\"category\":\"Stationery\",\"cost\":300, \"discount\":\t10},\n",
        "\"markers\": \t{\"category\":\"Stationery\",\"cost\":500, \"discount\":\t5},}\n",
        "# print(products)\n",
        "\n",
        "noi={\"tshirt\":0,\n",
        "\"jacket\":0,\n",
        "\"cap\":0,\n",
        "\"notebook\":0,\n",
        "\"pens\":0,\n",
        "\"markers\":0}\n",
        "\n",
        "shopping = True\n",
        "\n",
        "\n",
        "def add_item(item,quantitiy):\n",
        "    cur_counts = noi[item]+quantitiy\n",
        "    if(cur_counts>2 and products[item][\"category\"]==\"Clothing\"):\n",
        "        print(\"ERROR_QUANTITY_EXCEEDED\")\n",
        "        return\n",
        "    elif(cur_counts>3 and products[item][\"category\"]==\"Stationery\"):\n",
        "        print(\"ERROR_QUANTITY_EXCEEDED\")\n",
        "        return\n",
        "    noi[item]+=quantitiy\n",
        "    print(\"ITEM_ADDED\")\n",
        "\n",
        "def print_bill():\n",
        "    # print(quantities)\n",
        "    cost_total=0\n",
        "    discount_total=0\n",
        "    for item in noi:\n",
        "        cost_total+=noi[item]*products[item][\"cost\"]\n",
        "        discount_total+=noi[item]*products[item][\"cost\"]*products[item][\"discount\"]/100\n",
        "        # print(item,cost_total,discount_total)\n",
        "    if(cost_total>3000):\n",
        "        # cost_total-=discount_total\n",
        "        discount_total+=cost_total*5/100\n",
        "    if(cost_total>=1000):\n",
        "        cost_total-=discount_total\n",
        "    else:\n",
        "        discount_total=0.00\n",
        "    tax=cost_total*0.1\n",
        "    # print(cost_total,discount_total,tax)\n",
        "    print(\"TOTAL_DISCOUNT\",discount_total)\n",
        "    print(\"TOTAL_AMOUNT_TO_PAY\",round(cost_total+tax,2))\n",
        "\n",
        "\n",
        "while(shopping):\n",
        "    event = input().strip()\n",
        "    if(event.startswith(\"add_item\")):\n",
        "        item,quantitiy=event.split()[1:]\n",
        "        add_item(item=item,quantitiy=int(quantitiy))\n",
        "    elif(event.startswith(\"print_bill\")):\n",
        "        print_bill()\n",
        "        shopping=False"
      ]
    }
  ]
}